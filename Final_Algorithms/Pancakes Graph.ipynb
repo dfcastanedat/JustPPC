{
 "cells": [
  {
   "cell_type": "code",
   "execution_count": 1,
   "metadata": {},
   "outputs": [],
   "source": [
    "# encoding:utf-8\n",
    "\n",
    "# Author: Marcos Castro\n",
    "# This file implements graphs\n",
    "\n",
    "# class that represents the node\n",
    "class Node:\n",
    "\n",
    "    def __init__(self, state):\n",
    "        self.__state, self.__parent = state, None\n",
    "\n",
    "    def getState(self):\n",
    "        return self.__state\n",
    "\n",
    "    def setParent(self, parent):\n",
    "        self.__parent = parent\n",
    "\n",
    "    def getParent(self):\n",
    "        return self.__parent\n",
    "\n",
    "\n",
    "# class that represents the graph\n",
    "class Graph:\n",
    "\n",
    "    def setParent(self, source, destination, cost):\n",
    "        destination.setParent(source)\n",
    "\n",
    "    def getStatesPredecessors(self, node):\n",
    "        predecessors, current_parent = {}, node.getParent()\n",
    "        while(current_parent):\n",
    "            predecessors[str(current_parent.getState())] = current_parent.getState()\n",
    "            current_parent = current_parent.getParent()\n",
    "        return predecessors"
   ]
  },
  {
   "cell_type": "code",
   "execution_count": 2,
   "metadata": {},
   "outputs": [],
   "source": [
    "# encoding:utf-8\n",
    "\n",
    "# This file implements a priority queue using heapq module\n",
    "# Author: Marcos Castro\n",
    "\n",
    "import heapq\n",
    "\n",
    "class PriorityQueue:\n",
    "\n",
    "    def __init__(self):\n",
    "        self._queue = []\n",
    "        self._index = 0\n",
    "\n",
    "    def insert(self, item, priority):\n",
    "        heapq.heappush(self._queue, (priority, self._index, item))\n",
    "        self._index += 1\n",
    "\n",
    "    def remove(self):\n",
    "        return heapq.heappop(self._queue)[-1]\n",
    "\n",
    "    def is_empty(self):\n",
    "        return len(self._queue) == 0\n",
    "\n",
    "    def size(self):\n",
    "        return self._index\n",
    "\n",
    "\n",
    "# test...\n",
    "# queue = PriorityQueue()\n",
    "# queue.insert('e', 9)\n",
    "# queue.insert('a', 2)\n",
    "# queue.insert('h', 13)\n",
    "# queue.insert('e', 5)\n",
    "# queue.insert('c', 11)\n",
    "# print(queue.remove())"
   ]
  },
  {
   "cell_type": "code",
   "execution_count": 18,
   "metadata": {},
   "outputs": [
    {
     "name": "stdout",
     "output_type": "stream",
     "text": [
      "Size:\n",
      "4\n",
      "Parameter C:\n",
      "1\n",
      "List:\n",
      "2 4 3 1\n",
      "Cantidad de flips: 3\n",
      "\n",
      "('2', '4', '3', '1')\n",
      "('2', '1', '4', '3')\n",
      "('4', '2', '1', '3')\n",
      "('4', '1', '3', '2')\n",
      "('3', '2', '4', '1')\n",
      "('3', '4', '1', '2')\n",
      "('1', '2', '4', '3')\n",
      "('1', '4', '2', '3')\n",
      "('1', '4', '3', '2')\n",
      "('1', '3', '2', '4')\n",
      "('1', '3', '4', '2')\n"
     ]
    }
   ],
   "source": [
    "import random, time\n",
    "import itertools\n",
    "\n",
    "\n",
    "\n",
    "# returns a list of tuples where each tuple is (state, cost_edge)\n",
    "def get_states(state, dict_states_predecessors):\n",
    "    len_state, states = len(state), []\n",
    "\n",
    "    for i in range(len_state):\n",
    "        sub_list = state[0:i + 1]  # gets sublist\n",
    "        len_sub_list = len(sub_list)  # gets lenght sublist\n",
    "        # gets tail list\n",
    "        tail_list = state[i + 1:len_state]\n",
    "        # realizes the flip\n",
    "        # remove the top element (first element)\n",
    "        top_element = sub_list.pop(0)\n",
    "        # invert \"sub_list\"\n",
    "        sub_list = sub_list[::-1]\n",
    "        # inserts element of top on end of list\n",
    "        sub_list.append(top_element)\n",
    "        # concatenates the two lists\n",
    "        list_state = sub_list + tail_list\n",
    "        # inserts the \"states\" and the edge's cost if the state no exists in \"dict_states_predecessors\"\n",
    "        if str(list_state) not in dict_states_predecessors:\n",
    "            states.append((sub_list + tail_list, i + 1))\n",
    "\n",
    "    if len(states) > 0:\n",
    "        states.pop(0)  # removes first state that is the same \"state\"\n",
    "    return states  # return all states\n",
    "\n",
    "\n",
    "# runs algorithm\n",
    "def run(state, time_sleep=1):\n",
    "    goal_state = state[:]  # copy the goal state\n",
    "    goal_state.sort()  # ordering goal_state\n",
    "    graph = Graph()  # creates graph\n",
    "\n",
    "    # fringe of the graph, fringe is an priority queue, priority is the smaller cost\n",
    "    fringe = PriorityQueue()\n",
    "\n",
    "    # append in priority queue, each item is a tuple (node, cumulative_cost)\n",
    "    fringe.insert((Node(state), 0), 0)\n",
    "\n",
    "    while not fringe.is_empty():  # while fringe not is empty\n",
    "\n",
    "        node, cost_node = fringe.remove()  # removes node of the fringe\n",
    "\n",
    "        if node.getState() == goal_state:  # verifies if reached the goal\n",
    "\n",
    "            return cost_node\n",
    "\n",
    "        # expands the node (generates states), each neighbor is a tuple (state, cost_edge)\n",
    "        neighbors = get_states(node.getState(), graph.getStatesPredecessors(node))\n",
    "\n",
    "        if neighbors:\n",
    "\n",
    "\n",
    "\n",
    "            for neighbor in neighbors:\n",
    "                state_neighbor, cost_edge = neighbor  # unpack tuple (state, cost_edge)\n",
    "                neighbor_node = Node(state_neighbor)  # creates neighbor node\n",
    "                graph.setParent(node, neighbor_node, cost_edge)  # set parent\n",
    "                cumulative_cost = cost_node + 1  # calculates cumulative cost\n",
    "                fringe.insert((neighbor_node, cumulative_cost), cumulative_cost)  # adds neighbor node on the fringe\n",
    "\n",
    "\n",
    "if __name__ == \"__main__\":\n",
    "    print(\"Size:\")\n",
    "    size=int(input())\n",
    "    print(\"Parameter C:\")\n",
    "    c=int(input())\n",
    "    lista=[]\n",
    "    print(\"List:\")\n",
    "    #for i in range(size):\n",
    "        #lista.append(input())\n",
    "    lista = (input()).split()\n",
    "    permutations=(list(list(itertools.permutations(lista))))\n",
    "    \n",
    "    \"\"\"parameter c\n",
    "    if the parameter c is 0 writes Pn; \n",
    "    if the parameter c is 1 writes Pn and all the permutations (in xls and xml) that require Pn flips ant the corresponding flips;\n",
    "    if the parameter c is 2 writes Pn and all the permutations (in xls and xml)\"\"\"\n",
    "    \n",
    "    if(c==0):\n",
    "        initial_state = lista\n",
    "        if (initial_state):\n",
    "            total_cost = run(initial_state, time_sleep=1)\n",
    "            print('Cantidad de flips: %s\\n' % total_cost)\n",
    "\n",
    "    if(c==1):\n",
    "        initial_state = lista\n",
    "        flips_ini = run(initial_state, time_sleep=1)\n",
    "        print('Cantidad de flips: %s\\n' % flips_ini)\n",
    "        for i in range(len(permutations)):\n",
    "            total_cost = run(list(permutations[i]), time_sleep=1)\n",
    "            if(total_cost==flips_ini):\n",
    "                print (permutations[i])\n",
    "\n",
    "    if (c == 2):\n",
    "        initial_state = lista\n",
    "        flips_ini = run(initial_state, time_sleep=1)\n",
    "        print('Cantidad de flips: %s\\n' % flips_ini)\n",
    "        for i in range(len(permutations)):\n",
    "            print (permutations[i])"
   ]
  },
  {
   "cell_type": "markdown",
   "metadata": {},
   "source": [
    "# HPTA CHACON DE MIERDA"
   ]
  },
  {
   "cell_type": "code",
   "execution_count": 4,
   "metadata": {},
   "outputs": [],
   "source": [
    "import xlsxwriter"
   ]
  },
  {
   "cell_type": "code",
   "execution_count": 5,
   "metadata": {},
   "outputs": [
    {
     "name": "stdout",
     "output_type": "stream",
     "text": [
      ":D\n"
     ]
    }
   ],
   "source": [
    "print(\":D\")"
   ]
  },
  {
   "cell_type": "code",
   "execution_count": 12,
   "metadata": {},
   "outputs": [],
   "source": [
    "import xlsxwriter\n",
    "\n",
    "\n",
    "# Create an new Excel file and add a worksheet.\n",
    "workbook = xlsxwriter.Workbook('demo.xlsx')\n",
    "worksheet = workbook.add_worksheet()\n",
    "\n",
    "# Widen the first column to make the text clearer.\n",
    "worksheet.set_column('A:A', 20)\n",
    "\n",
    "# Add a bold format to use to highlight cells.\n",
    "bold = workbook.add_format({'bold': True})\n",
    "\n",
    "# Write some simple text.\n",
    "worksheet.write('A1', 'Hello')\n",
    "\n",
    "# Text with formatting.\n",
    "worksheet.write('A2', 'World', bold)\n",
    "\n",
    "# Write some numbers, with row/column notation.\n",
    "worksheet.write(2, 0, 123)\n",
    "worksheet.write(3, 0, 123.456)\n",
    "\n",
    "# Insert an image.\n",
    "#worksheet.insert_image('B5', 'logo.png')\n",
    "\n",
    "workbook.close()"
   ]
  },
  {
   "cell_type": "code",
   "execution_count": 18,
   "metadata": {},
   "outputs": [
    {
     "data": {
      "text/html": [
       "<a download=\"demo.xlsx\" href=\"data:text/csv;\" target=\"_blank\">Download CSV file</a>"
      ],
      "text/plain": [
       "<IPython.core.display.HTML object>"
      ]
     },
     "execution_count": 18,
     "metadata": {},
     "output_type": "execute_result"
    }
   ],
   "source": [
    "import base64\n",
    "import pandas as pd\n",
    "from IPython.display import HTML\n",
    "\n",
    "def create_download_link( df, title = \"Download CSV file\", filename = \"demo.xlsx\"):\n",
    "    csv = df\n",
    "    html = '<a download=\"{filename}\" href=\"data:text/csv;\" target=\"_blank\">{title}</a>'\n",
    "    html = html.format(title=title,filename=filename)\n",
    "    return HTML(html)\n",
    "\n",
    "df = pd.DataFrame(data = [[1,2],[3,4]], columns=['Col 1', 'Col 2'])\n",
    "create_download_link(workbook)"
   ]
  },
  {
   "cell_type": "code",
   "execution_count": 21,
   "metadata": {},
   "outputs": [
    {
     "data": {
      "image/jpeg": "[encoded data removed]",
      "text/html": [
       "\n",
       "        <iframe\n",
       "            width=\"400\"\n",
       "            height=\"300\"\n",
       "            src=\"https://www.youtube.com/embed/35JTe3RibRE\"\n",
       "            frameborder=\"0\"\n",
       "            allowfullscreen\n",
       "        ></iframe>\n",
       "        "
      ],
      "text/plain": [
       "<IPython.lib.display.YouTubeVideo at 0x52bec10278>"
      ]
     },
     "metadata": {},
     "output_type": "display_data"
    }
   ],
   "source": [
    "from IPython.display import YouTubeVideo\n",
    "# a talk about IPython at Sage Days at U. Washington, Seattle.\n",
    "# Video credit: William Stein.\n",
    "vid = YouTubeVideo('35JTe3RibRE')\n",
    "display(vid)"
   ]
  },
  {
   "cell_type": "code",
   "execution_count": 23,
   "metadata": {},
   "outputs": [
    {
     "data": {
      "text/html": [
       "<iframe width=\"560\" height=\"315\" src=\"https://www.youtube.com/embed/35JTe3RibRE?rel=0&amp;controls=0&amp;showinfo=0\" frameborder=\"0\" allowfullscreen></iframe>"
      ],
      "text/plain": [
       "<IPython.core.display.HTML object>"
      ]
     },
     "execution_count": 23,
     "metadata": {},
     "output_type": "execute_result"
    }
   ],
   "source": [
    "from IPython.display import HTML\n",
    "\n",
    "HTML('<iframe width=\"560\" height=\"315\" src=\"https://www.youtube.com/embed/35JTe3RibRE?rel=0&amp;controls=0&amp;showinfo=0\" frameborder=\"0\" allowfullscreen></iframe>')"
   ]
  },
  {
   "cell_type": "markdown",
   "metadata": {},
   "source": [
    "Usando Markdown: $F(k) = \\int_{-\\infty}^{\\infty} f(x) e^{2\\pi i k} dx$"
   ]
  },
  {
   "cell_type": "markdown",
   "metadata": {},
   "source": [
    "Usando IPython.display:"
   ]
  },
  {
   "cell_type": "code",
   "execution_count": 24,
   "metadata": {},
   "outputs": [
    {
     "data": {
      "text/latex": [
       "$$F(k) = \\int_{-\\infty}^{\\infty} f(x) e^{2\\pi i k} dx$$"
      ],
      "text/plain": [
       "<IPython.core.display.Math object>"
      ]
     },
     "execution_count": 24,
     "metadata": {},
     "output_type": "execute_result"
    }
   ],
   "source": [
    "from IPython.display import Math\n",
    "Math(r'F(k) = \\int_{-\\infty}^{\\infty} f(x) e^{2\\pi i k} dx')"
   ]
  },
  {
   "cell_type": "code",
   "execution_count": null,
   "metadata": {},
   "outputs": [],
   "source": []
  }
 ],
 "metadata": {
  "kernelspec": {
   "display_name": "Python 3",
   "language": "python",
   "name": "python3"
  },
  "language_info": {
   "codemirror_mode": {
    "name": "ipython",
    "version": 3
   },
   "file_extension": ".py",
   "mimetype": "text/x-python",
   "name": "python",
   "nbconvert_exporter": "python",
   "pygments_lexer": "ipython3",
   "version": "3.6.4"
  }
 },
 "nbformat": 4,
 "nbformat_minor": 2
}
